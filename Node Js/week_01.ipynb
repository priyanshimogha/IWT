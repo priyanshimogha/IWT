{
 "cells": [
  {
   "cell_type": "raw",
   "id": "6970333e-8f46-49de-a321-adf3f2bcab69",
   "metadata": {},
   "source": [
    "Q1. Write a program to:\n",
    "Assign the following values to variables: o name: your name o age: your age o height: your height in centimeters o is_student: a boolean indicating whether you are a student\n",
    "Print the types of all variables using the type() function."
   ]
  },
  {
   "cell_type": "code",
   "execution_count": 4,
   "id": "ad60d615-006a-463f-9af7-3aa7053d172f",
   "metadata": {},
   "outputs": [],
   "source": [
    "name = \"Himanshu Kakkar\"\n",
    "age = 23\n",
    "height = 6\n",
    "isStudent = True"
   ]
  },
  {
   "cell_type": "code",
   "execution_count": 5,
   "id": "48e43360-1ff7-4c80-9881-25a974ba037c",
   "metadata": {},
   "outputs": [
    {
     "name": "stdout",
     "output_type": "stream",
     "text": [
      "<class 'str'>\n",
      "<class 'int'>\n",
      "<class 'int'>\n",
      "<class 'bool'>\n"
     ]
    }
   ],
   "source": [
    "print(type(name))\n",
    "print(type(age))\n",
    "print(type(height))\n",
    "print(type(isStudent))"
   ]
  },
  {
   "cell_type": "markdown",
   "id": "df94ce75-f22f-4ac2-9ceb-a39edf6238c6",
   "metadata": {},
   "source": [
    "Q2. Conditionals (5 minutes)\n",
    "Write a program that\n",
    "1. Takes an integer input from the user.\n",
    "2. Checks if the number is:\n",
    "o Greater than 0: Print \"Positive\"\n",
    "o Less than 0: Print \"Negative\"\n",
    "o Equal to 0: Print \"Zero\""
   ]
  },
  {
   "cell_type": "code",
   "execution_count": null,
   "id": "f27e1563",
   "metadata": {},
   "outputs": [
    {
     "name": "stdout",
     "output_type": "stream",
     "text": [
      "Enter a value: 5\n"
     ]
    },
    {
     "name": "stdout",
     "output_type": "stream",
     "text": [
      "You Entered: 5\n"
     ]
    }
   ],
   "source": [
    "# from prompt_toolkit import prompt\n",
    "val = input(\"Enter a value:\")\n",
    "print(f\"You Entered: {val}\")"
   ]
  },
  {
   "cell_type": "code",
   "execution_count": 7,
   "id": "baef80ec-1083-49ea-9a50-380954e43910",
   "metadata": {},
   "outputs": [
    {
     "name": "stdout",
     "output_type": "stream",
     "text": [
      "Enter the value: 3\n"
     ]
    },
    {
     "name": "stdout",
     "output_type": "stream",
     "text": [
      "Positive\n"
     ]
    }
   ],
   "source": [
    "val = int(input(\"Enter the value:\"))\n",
    "if val > 0:\n",
    "  print(\"Positive\")\n",
    "elif val < 0:\n",
    "  print(\"Negative\")\n",
    "else : print(\"Zero\")"
   ]
  },
  {
   "cell_type": "markdown",
   "id": "c56d424a-78c3-427f-a14f-873c7534460c",
   "metadata": {},
   "source": [
    "Q3. Loops (5 minutes)\n",
    "Write a program to:\n",
    "1. Print all even numbers between 1 and 10 using a for loop.\n",
    "2. Print the sum of these even numbers"
   ]
  },
  {
   "cell_type": "code",
   "execution_count": 8,
   "id": "c48b3366-410a-4015-b1d8-6052549441d1",
   "metadata": {
    "scrolled": true
   },
   "outputs": [
    {
     "name": "stdout",
     "output_type": "stream",
     "text": [
      "1\n",
      "4\n",
      "7\n",
      "10\n",
      "13\n",
      "Total sum is : \n",
      "35\n"
     ]
    }
   ],
   "source": [
    "sum = 0\n",
    "for x in range(1,15,3):\n",
    "    print(x)\n",
    "    sum+=x\n",
    "print(\"Total sum is : \")\n",
    "print(sum)"
   ]
  },
  {
   "cell_type": "markdown",
   "id": "d225a73b-d4a2-4446-8fdd-4f0af74c9ff7",
   "metadata": {},
   "source": [
    "Write a function called square() that:\n",
    "\n",
    "1. Takes a single integer as input.\n",
    "2. Returns the square of the number.\n",
    "3. Call the function with the input 4 and print the result."
   ]
  },
  {
   "cell_type": "code",
   "execution_count": null,
   "id": "37fd8a89",
   "metadata": {},
   "outputs": [],
   "source": [
    "val = int(input(\"Enter an integer value:\"))\n",
    "def square():\n",
    "    return val*val\n",
    "print(square())"
   ]
  },
  {
   "cell_type": "markdown",
   "id": "94cf39a4-c575-418d-ae84-23169655ca8e",
   "metadata": {},
   "source": [
    "Assignment 1: Data Type Detective\n",
    "● Task: Create a program that takes three inputs from the user: a number, a word, and a decimal number.\n",
    "● Instructions:\n",
    "o Store each input in a separate variable using appropriate data types.\n",
    "o Print the data type of each variable.\n",
    "o Perform simple operations on each variable, such as addition, subtraction, or concatenation, and print the results\n"
   ]
  },
  {
   "cell_type": "code",
   "execution_count": null,
   "id": "4a650e3d-3fa6-4f65-b133-86e55ba6c57d",
   "metadata": {},
   "outputs": [],
   "source": [
    "n1 = int(input(\"Enter an integer\"))\n",
    "n2 = str(input(\"Enter a string\"))\n",
    "n3 = float(input(\"Enter a decimal value\"))\n",
    "print(type(n1))\n",
    "print(type(n2))\n",
    "print(type(n3))\n",
    "\n",
    "print(n1+n3)\n",
    "print(n1-n3)\n",
    "print(n1*n3)\n",
    "print(n1//n3)"
   ]
  },
  {
   "cell_type": "markdown",
   "id": "bf86fcfd-4bcc-4044-8919-bf7c35db1f7f",
   "metadata": {},
   "source": [
    "Assignment 2: Name That Variable\n",
    "\n",
    "● Task: Write a program that takes a variable name as input from the user.\n",
    "● Instructions:\n",
    "o Determine if the given variable name follows Python's naming conventions.\n",
    "o If it's valid, print \"Valid variable name.\"\n",
    "o If it's invalid, print \"Invalid variable name.\" and explain why."
   ]
  },
  {
   "cell_type": "code",
   "execution_count": null,
   "id": "4e1b7428-0538-489b-b8de-5c3a892fd68c",
   "metadata": {},
   "outputs": [],
   "source": [
    "name = str(input(\"Enter variable name\"))\n",
    "\n",
    "def is_variable_valid(name):\n",
    "    if not name.isidentifier():\n",
    "        return \"Invalid variable name. Reason: It should only contain letters, digits, and underscores, and should not start with a digit.\"\n",
    "    import keyword\n",
    "    if keyword.iskeyword(name):\n",
    "        return \"Invalid variable name. Reason: It cannot be a Python keyword.\"\n",
    "    return \"Valid variable name\"\n",
    "\n",
    "print(is_variable_valid(name));"
   ]
  },
  {
   "cell_type": "markdown",
   "id": "91389a05-f254-4d2a-9448-73100a0aacea",
   "metadata": {},
   "source": [
    "Assignment 3: Temperature Converter\n",
    "\n",
    "● Task: Create a program that converts temperatures between Celsius and Fahrenheit.\n",
    "● Instructions:\n",
    "o Ask the user to choose between Celsius to Fahrenheit or Fahrenheit to Celsius.\n",
    "o Take the temperature value as input from the user.\n",
    "o Use the appropriate formula to convert the temperature.\n",
    "o Print the converted temperature."
   ]
  },
  {
   "cell_type": "code",
   "execution_count": null,
   "id": "d20c9367-b639-40fc-b44e-a87b88ac9e35",
   "metadata": {},
   "outputs": [],
   "source": [
    "def celsius_to_fahrenheit(celsius):\n",
    "    return (celsius * 9/5) + 32\n",
    "\n",
    "def fahrenheit_to_celsius(fahrenheit):\n",
    "    return (fahrenheit - 32) * 5/9\n",
    "\n",
    "def temperature_converter():\n",
    "    print(\"Temperature Converter\")\n",
    "    print(\"1. Celsius to Fahrenheit\")\n",
    "    print(\"2. Fahrenheit to Celsius\")\n",
    "    \n",
    "    choice = input(\"Choose an option (1 or 2): \")\n",
    "    \n",
    "    if choice == '1':\n",
    "        celsius = float(input(\"Enter temperature in Celsius: \"))\n",
    "        fahrenheit = celsius_to_fahrenheit(celsius)\n",
    "        print(f\"{celsius}°C is equal to {fahrenheit:.2f}°F\")\n",
    "    \n",
    "    elif choice == '2':\n",
    "        fahrenheit = float(input(\"Enter temperature in Fahrenheit: \"))\n",
    "        celsius = fahrenheit_to_celsius(fahrenheit)\n",
    "        print(f\"{fahrenheit}°F is equal to {celsius:.2f}°C\")\n",
    "    \n",
    "    else:\n",
    "        print(\"Invalid choice. Please enter 1 or 2.\")\n",
    "        temperature_converter()\n",
    "\n",
    "temperature_converter()\n"
   ]
  },
  {
   "cell_type": "markdown",
   "id": "bad8138f-bafe-4f5b-920a-dd3c660978b5",
   "metadata": {},
   "source": [
    "Assignment 4: Grade Calculator\n",
    "\n",
    "● Task: Write a program that calculates a student's grade based on their percentage score.\n",
    "● Instructions:\n",
    "o Take the percentage score as input from the user.\n",
    "o Use an if-elif-else ladder to determine the grade (e.g., A, B, C, D, F).\n",
    "o Print the calculated grade.\n"
   ]
  },
  {
   "cell_type": "code",
   "execution_count": null,
   "id": "2f04519e-3052-41f3-8ea6-9f9361a72dab",
   "metadata": {},
   "outputs": [],
   "source": [
    "per = float(input(\"Enter a percentage value\"))\n",
    "def cal_perc_to_grade():\n",
    "    print(\"Your grade is \")\n",
    "    if per>=85:\n",
    "        print(\"A\")\n",
    "    elif (per<85) & (per>=75):\n",
    "        print(\"B\")\n",
    "    elif (per<75) & (per>=65):\n",
    "        print(\"C\")\n",
    "    elif (per<64) & (per>=55):\n",
    "        print(\"D\")\n",
    "    else: print(\"P\")\n",
    "cal_perc_to_grade();"
   ]
  },
  {
   "cell_type": "markdown",
   "id": "584593ef-9185-4aac-a23b-c90e32af2d6b",
   "metadata": {},
   "source": [
    "Assignment 5: Leap Year Checker\n",
    "\n",
    "● Task: Create a program that checks if a given year is a leap year.\n",
    "● Instructions:\n",
    "o Take the year as input from the user.\n",
    "o Use an if-elif-else ladder to determine if the year is a leap year according to the leap year rules.\n",
    "o Print whether the year is a leap year or not."
   ]
  },
  {
   "cell_type": "code",
   "execution_count": null,
   "id": "ff89b4d6-fa81-43eb-b36e-bc45a0c28cd0",
   "metadata": {},
   "outputs": [],
   "source": [
    "year = int(input(\"Enter an year\"))\n",
    "if year % 4 == 0:\n",
    "    if year % 100 == 0:\n",
    "        if year % 400 == 0:\n",
    "            print(f\"{year} is a leap year.\")\n",
    "        else:\n",
    "            print(f\"{year} is not a leap year.\")\n",
    "    else:\n",
    "        print(f\"{year} is a leap year.\")\n",
    "else:\n",
    "    print(f\"{year} is not a leap year.\")"
   ]
  },
  {
   "cell_type": "markdown",
   "id": "10639b29-4456-4866-ac56-5bc9bcd18fc7",
   "metadata": {},
   "source": [
    "Assignment 6: Write lyrics\n",
    "● Task: Create a program that generates the entire lyrics at Super Simple.\n",
    "● Instructions:\n",
    "o Use formatted strings.\n",
    "o In line if constructs to make as much short program as possible"
   ]
  },
  {
   "cell_type": "code",
   "execution_count": null,
   "id": "26f1dca3-82e5-42ac-a4c6-5fcba8ea7aad",
   "metadata": {},
   "outputs": [],
   "source": [
    "def generate_lyrics():\n",
    "    for i in range(10, 0, -1):\n",
    "        print(f\"{i}!\" if i < 10 else \"Here we go!\")\n",
    "        print(f\"There {'was' if i == 1 else 'were'} {i} in the bed\")\n",
    "        print(f\"and the little one said,\")\n",
    "        print(f\"“Roll over, roll over.”\")\n",
    "        print(f\"So they {'both' if i == 2 else 'all'} rolled over and one fell out.\\n\")\n",
    "    \n",
    "    print(\"One!\\nThere was one in the bed\\nand the little one said,\\n“I’m lonely…[sigh].”\")\n",
    "\n",
    "generate_lyrics()\n"
   ]
  }
 ],
 "metadata": {
  "kernelspec": {
   "display_name": "Python 3 (ipykernel)",
   "language": "python",
   "name": "python3"
  },
  "language_info": {
   "codemirror_mode": {
    "name": "ipython",
    "version": 3
   },
   "file_extension": ".py",
   "mimetype": "text/x-python",
   "name": "python",
   "nbconvert_exporter": "python",
   "pygments_lexer": "ipython3",
   "version": "3.13.1"
  }
 },
 "nbformat": 4,
 "nbformat_minor": 5
}
