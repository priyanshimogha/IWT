{
 "cells": [
  {
   "cell_type": "markdown",
   "id": "9857a415-ca50-4faf-9973-8d63d3bf15fa",
   "metadata": {},
   "source": [
    "1. Generate N (lets us say 100) random numbers. Create a histogram of the values generated.\n",
    "a. Make equal range bins\n",
    "b. Calculate the frequency within each range\n",
    "c. Plot range of bins on x-axis and frequency on y-axis"
   ]
  },
  {
   "cell_type": "code",
   "execution_count": 1,
   "id": "1e034164-168c-41d5-a010-4022721a92dd",
   "metadata": {},
   "outputs": [
    {
     "data": {
      "image/png": "[encoded data removed]",
      "text/plain": [
       "<Figure size 1000x500 with 1 Axes>"
      ]
     },
     "metadata": {},
     "output_type": "display_data"
    }
   ],
   "source": [
    "import numpy as np\n",
    "import matplotlib.pyplot as plt\n",
    "import scipy.stats as stats\n",
    "\n",
    "plt.figure(figsize=(10,5))\n",
    "random_numbers = np.random.rand(100)\n",
    "\n",
    "n_bins = 10\n",
    "plt.hist(random_numbers, bins=n_bins, edgecolor='black',color = 'grey')\n",
    "plt.xticks(np.arange(0, 1.05, 0.05))\n",
    "plt.xlabel('Range of Bins')\n",
    "plt.ylabel('Frequency')\n",
    "plt.title('Histogram of Uniformly Distributed Random Numbers')\n",
    "plt.show()\n"
   ]
  },
  {
   "cell_type": "markdown",
   "id": "ec2ce326-544d-47e1-83f5-9e709a25a702",
   "metadata": {},
   "source": [
    "2. Repeat the Exercise 1 by randomly generating normally distributed random numbers instead of\n",
    "using =rand() (Uniformly distributed random numbers)."
   ]
  },
  {
   "cell_type": "code",
   "execution_count": 2,
   "id": "08d79e83-8874-4d86-85dd-6bfcf7f32208",
   "metadata": {},
   "outputs": [
    {
     "ename": "NameError",
     "evalue": "name 'n' is not defined",
     "output_type": "error",
     "traceback": [
      "\u001b[0;31m---------------------------------------------------------------------------\u001b[0m",
      "\u001b[0;31mNameError\u001b[0m                                 Traceback (most recent call last)",
      "Cell \u001b[0;32mIn[2], line 1\u001b[0m\n\u001b[0;32m----> 1\u001b[0m normal_numbers \u001b[38;5;241m=\u001b[39m np\u001b[38;5;241m.\u001b[39mrandom\u001b[38;5;241m.\u001b[39mrandn(\u001b[43mn\u001b[49m) \n\u001b[1;32m      2\u001b[0m \u001b[38;5;66;03m#normal_numbers = np.random.normal(0,1,n)\u001b[39;00m\n\u001b[1;32m      4\u001b[0m plt\u001b[38;5;241m.\u001b[39mhist(normal_numbers, bins\u001b[38;5;241m=\u001b[39mn_bins, edgecolor\u001b[38;5;241m=\u001b[39m\u001b[38;5;124m'\u001b[39m\u001b[38;5;124mblack\u001b[39m\u001b[38;5;124m'\u001b[39m, color\u001b[38;5;241m=\u001b[39m\u001b[38;5;124m'\u001b[39m\u001b[38;5;124mgrey\u001b[39m\u001b[38;5;124m'\u001b[39m)\n",
      "\u001b[0;31mNameError\u001b[0m: name 'n' is not defined"
     ]
    }
   ],
   "source": [
    "\n",
    "normal_numbers = np.random.randn(n) \n",
    "#normal_numbers = np.random.normal(0,1,n)\n",
    "\n",
    "plt.hist(normal_numbers, bins=n_bins, edgecolor='black', color='grey')\n",
    "# plt.xticks(np.arange(-2.4,2.8,0.4))\n",
    "\n",
    "low = np.min(normal_numbers)\n",
    "high = np.max(normal_numbers)\n",
    "step = 0.5\n",
    "xticks_range = np.arange(np.floor(low), np.ceil(high)+ step, step)\n",
    "plt.xticks(xticks_range)\n",
    "plt.xlabel('Range of Bins')\n",
    "plt.ylabel('Frequency')\n",
    "plt.title('Histogram of Normally Distributed Random Numbers')\n",
    "plt.show()\n"
   ]
  },
  {
   "cell_type": "markdown",
   "id": "4adc2bb3-f26c-45d4-b43b-9ed552684fea",
   "metadata": {},
   "source": [
    "3. Generate 300 normally distributed random numbers to simulate student exam scores (assume mean\n",
    "= 75, standard deviation = 10).\n",
    "a. Plot a histogram of the exam scores with appropriate binning.\n",
    "b. Determine if the scores follow a bell curve (normal distribution) and identify any\n",
    "outliers."
   ]
  },
  {
   "cell_type": "code",
   "execution_count": null,
   "id": "cb1019c9-3a4e-4f8c-83b4-b97bdc7cdb0d",
   "metadata": {},
   "outputs": [],
   "source": [
    "\n",
    "\n",
    "exam_scores = np.random.normal(loc=75, scale=10, size=300)  # mean=75, std=10\n",
    "\n",
    "\n",
    "task3_bins = 15 \n",
    "plt.hist(exam_scores, bins=task3_bins, edgecolor='black', color='grey', alpha=0.7)\n",
    "plt.xlabel('Exam Scores')\n",
    "plt.ylabel('Frequency')\n",
    "plt.title('Histogram of Student Exam Scores')\n",
    "plt.show()\n",
    "\n",
    "\n",
    "mean_score = np.mean(exam_scores)\n",
    "std_dev = np.std(exam_scores)\n",
    "print(f\"Mean: {mean_score:.2f}, Standard Deviation: {std_dev:.2f}\")\n",
    "\n",
    "# Identify Outliers (values beyond 3 standard deviations)\n",
    "z_scores = (exam_scores - mean_score) / std_dev\n",
    "outliers = exam_scores[np.abs(z_scores) > 3]\n",
    "print(f\"Outliers: {outliers}\")\n",
    "\n",
    "# Plot normal distribution curve\n",
    "x = np.linspace(min(exam_scores), max(exam_scores), 100)\n",
    "pdf = stats.norm.pdf(x, mean_score, std_dev)\n",
    "\n",
    "plt.hist(exam_scores, bins=task3_bins, density=True, alpha=0.6, color='g', edgecolor='black')\n",
    "plt.plot(x, pdf, 'r-', label='Normal Distribution')\n",
    "plt.xlabel('Exam Scores')\n",
    "plt.ylabel('Density')\n",
    "plt.title('Exam Scores with Normal Distribution Curve')\n",
    "plt.legend()\n",
    "plt.show()"
   ]
  },
  {
   "cell_type": "code",
   "execution_count": null,
   "id": "14544547-c0c5-4e77-a9b1-8734b9650039",
   "metadata": {},
   "outputs": [],
   "source": []
  }
 ],
 "metadata": {
  "kernelspec": {
   "display_name": "Python 3 (ipykernel)",
   "language": "python",
   "name": "python3"
  },
  "language_info": {
   "codemirror_mode": {
    "name": "ipython",
    "version": 3
   },
   "file_extension": ".py",
   "mimetype": "text/x-python",
   "name": "python",
   "nbconvert_exporter": "python",
   "pygments_lexer": "ipython3",
   "version": "3.13.1"
  }
 },
 "nbformat": 4,
 "nbformat_minor": 5
}
